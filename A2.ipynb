{
 "cells": [
  {
   "cell_type": "code",
   "execution_count": 12,
   "metadata": {},
   "outputs": [
    {
     "ename": "AttributeError",
     "evalue": "type object 'Partners' has no attribute 'run'",
     "output_type": "error",
     "traceback": [
      "\u001b[0;31m---------------------------------------------------------------------------\u001b[0m",
      "\u001b[0;31mAttributeError\u001b[0m                            Traceback (most recent call last)",
      "\u001b[0;32m<ipython-input-12-16e6e01a4dc4>\u001b[0m in \u001b[0;36m<module>\u001b[0;34m\u001b[0m\n\u001b[1;32m     41\u001b[0m \u001b[0;34m\u001b[0m\u001b[0m\n\u001b[1;32m     42\u001b[0m \u001b[0;34m\u001b[0m\u001b[0m\n\u001b[0;32m---> 43\u001b[0;31m \u001b[0;32mclass\u001b[0m \u001b[0mHerokuapp\u001b[0m\u001b[0;34m:\u001b[0m\u001b[0;34m\u001b[0m\u001b[0;34m\u001b[0m\u001b[0m\n\u001b[0m\u001b[1;32m     44\u001b[0m     \u001b[0;32mdef\u001b[0m \u001b[0m__init__\u001b[0m\u001b[0;34m(\u001b[0m\u001b[0mself\u001b[0m\u001b[0;34m,\u001b[0m \u001b[0mavailableDates\u001b[0m\u001b[0;34m)\u001b[0m\u001b[0;34m:\u001b[0m\u001b[0;34m\u001b[0m\u001b[0;34m\u001b[0m\u001b[0m\n\u001b[1;32m     45\u001b[0m         \u001b[0mself\u001b[0m\u001b[0;34m.\u001b[0m\u001b[0mweb_link\u001b[0m \u001b[0;34m=\u001b[0m \u001b[0;34mf'https://ct-api-challenge.herokuapp.com/'\u001b[0m\u001b[0;34m\u001b[0m\u001b[0;34m\u001b[0m\u001b[0m\n",
      "\u001b[0;32m<ipython-input-12-16e6e01a4dc4>\u001b[0m in \u001b[0;36mHerokuapp\u001b[0;34m()\u001b[0m\n\u001b[1;32m     64\u001b[0m \u001b[0;34m\u001b[0m\u001b[0m\n\u001b[1;32m     65\u001b[0m     \u001b[0mprogram\u001b[0m \u001b[0;34m=\u001b[0m \u001b[0mPartners\u001b[0m\u001b[0;34m\u001b[0m\u001b[0;34m\u001b[0m\u001b[0m\n\u001b[0;32m---> 66\u001b[0;31m     \u001b[0mprogram\u001b[0m\u001b[0;34m.\u001b[0m\u001b[0mrun\u001b[0m\u001b[0;34m(\u001b[0m\u001b[0;34m)\u001b[0m\u001b[0;34m\u001b[0m\u001b[0;34m\u001b[0m\u001b[0m\n\u001b[0m\u001b[1;32m     67\u001b[0m \u001b[0;34m\u001b[0m\u001b[0m\n\u001b[1;32m     68\u001b[0m \u001b[0;34m\u001b[0m\u001b[0m\n",
      "\u001b[0;31mAttributeError\u001b[0m: type object 'Partners' has no attribute 'run'"
     ]
    }
   ],
   "source": [
    "import json\n",
    "import requests\n",
    "\n",
    "class Partners:\n",
    "    def __init__(self, availableDates, email, country, firstName, lastName):\n",
    "        self.availableDates = availableDates\n",
    "        self.email = email\n",
    "        self.country = country\n",
    "        self.firstName = firstName\n",
    "        self.lastName = lastName\n",
    "\n",
    "    def get_availableDates(self):\n",
    "        return self.availableDates\n",
    "\n",
    "    def get_email(self):\n",
    "        return self.email\n",
    "\n",
    "    def get_country(self):\n",
    "        return self.country\n",
    "\n",
    "    def get_firstName(self):\n",
    "        return self.firstName\n",
    "    def get_lastName(self):\n",
    "        return self.lastName\n",
    "\n",
    "    def __repr__(self):\n",
    "        return f'<Available: {self.availableDates} {self.email}>'\n",
    "\n",
    "    def __str__(self):\n",
    "        return f'{self.availableDates} {self.email}'\n",
    "\n",
    "    # @classmethod\n",
    "    def all(self):\n",
    "        print(\"+:\"*25)\n",
    "        print(f'Available date: {(self.name).title()}')\n",
    "        print(f'email: {(self.type_Of).title()}')\n",
    "        print(f'country: {(self.abilities).title()}')\n",
    "        print(f'firstName: {self.firstName}')\n",
    "        print(f'lastName: {self.lastName}')\n",
    "        print(\":+\"*25)\n",
    "\n",
    "\n",
    "class Herokuapp:\n",
    "    def __init__(self, availableDates):\n",
    "        self.web_link = f'https://ct-api-challenge.herokuapp.com/'\n",
    "\n",
    "    def run(self):\n",
    "        url = requests.get(self.web_link)\n",
    "        if url.status_code == 400:\n",
    "            print('You must pass in a valid Poke Name to execute this program.')\n",
    "        elif url.status_code == 200:\n",
    "            data = url.json()\n",
    "            availableDates = data['availableDates'][0]\n",
    "            email = data['email'][0]\n",
    "            country = data['country'][0]\n",
    "            firstName = data['firstName'][0]\n",
    "            lastName = data['lastName'][0]\n",
    "            p = Partners(availableDates, email, country, firstName, lastName)\n",
    "            p.all()\n",
    "\n",
    "# data = res.json()['MRData']['StandingsTable']['StandingsList'][0]['DriverStandings']:\n",
    "#    for driver in data:\n",
    "#        d = Driver(driver['Driver']['givenName'], driver['Driver']['familyName'], type=driver['Driver']['dateofBirth'], driver['points'], driver['position'], driver['Driver']['nationality'], driver['constructors'][0])\n",
    "\n",
    "    program = Partners\n",
    "    program.run()\n",
    "\n",
    "\n",
    "\n"
   ]
  },
  {
   "cell_type": "code",
   "execution_count": null,
   "metadata": {},
   "outputs": [],
   "source": []
  },
  {
   "cell_type": "code",
   "execution_count": null,
   "metadata": {},
   "outputs": [],
   "source": []
  },
  {
   "cell_type": "code",
   "execution_count": null,
   "metadata": {},
   "outputs": [],
   "source": []
  }
 ],
 "metadata": {
  "kernelspec": {
   "display_name": "Python 3",
   "language": "python",
   "name": "python3"
  },
  "language_info": {
   "codemirror_mode": {
    "name": "ipython",
    "version": 3
   },
   "file_extension": ".py",
   "mimetype": "text/x-python",
   "name": "python",
   "nbconvert_exporter": "python",
   "pygments_lexer": "ipython3",
   "version": "3.8.5"
  }
 },
 "nbformat": 4,
 "nbformat_minor": 4
}
